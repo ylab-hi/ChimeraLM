{
 "cells": [
  {
   "cell_type": "code",
   "execution_count": 1,
   "id": "ccfec03d-2941-4772-8e92-fbaa6f9f9d9e",
   "metadata": {},
   "outputs": [],
   "source": [
    "from collections import Counter, defaultdict\n",
    "from pathlib import Path\n",
    "\n",
    "import matplotlib.pyplot as plt\n",
    "import numpy as np\n",
    "import pandas as pd\n",
    "import seaborn as sns"
   ]
  },
  {
   "cell_type": "code",
   "execution_count": 2,
   "id": "1d63205c-16b0-4680-96da-e00e56bf818e",
   "metadata": {},
   "outputs": [],
   "source": [
    "project_path = Path(\"/projects/b1171/ylk4626/project/Chimera\")"
   ]
  },
  {
   "cell_type": "code",
   "execution_count": null,
   "id": "f143b24c-cf22-4b38-9f5c-de59ff09b989",
   "metadata": {},
   "outputs": [],
   "source": []
  },
  {
   "cell_type": "markdown",
   "id": "8f912946-4bac-40ab-bfb6-cc4916ad37f8",
   "metadata": {},
   "source": [
    "# TODO \n",
    "\n",
    "- [x] check chimeric rate for p2 and mk1c\n",
    "- [ ] construct traning set by chimeric read\n",
    "\n",
    "\n",
    "| Sample | No. chimeric reads  | No. total reads | ratio |\n",
    "|---|---|---|---|\n",
    "| P2  | 12963576 | 28027667  | 0.46 |  \n",
    "| mk1c | 1666427 |7193945  | 0.23 | \n",
    "\n",
    "\n",
    "## MK1C \n",
    "The number of sequences: 7193945\n",
    "The minimum length of sequences: 3\n",
    "The maximum length of sequences: 42118\n",
    "The mean length of sequences: 1469.25\n",
    "The standard deviation of sequences: 1148.43\n",
    "The first quartile of sequences: 760\n",
    "The second quartile of sequences: 1143\n",
    "The third quartile of sequences: 1766\n",
    "\n",
    "## P2 \n",
    "The number of sequences: 28027667\n",
    "The minimum length of sequences: 1\n",
    "The maximum length of sequences: 126974\n",
    "The mean length of sequences: 2488.00\n",
    "The standard deviation of sequences: 2056.88\n",
    "The first quartile of sequences: 1139\n",
    "The second quartile of sequences: 1864\n",
    "The third quartile of sequences: 3153\n"
   ]
  },
  {
   "cell_type": "code",
   "execution_count": null,
   "id": "fd0b5352-d0d7-4f2c-8b40-ac51963bee43",
   "metadata": {},
   "outputs": [],
   "source": []
  }
 ],
 "metadata": {
  "kernelspec": {
   "display_name": "dc",
   "language": "python",
   "name": "dc"
  },
  "language_info": {
   "codemirror_mode": {
    "name": "ipython",
    "version": 3
   },
   "file_extension": ".py",
   "mimetype": "text/x-python",
   "name": "python",
   "nbconvert_exporter": "python",
   "pygments_lexer": "ipython3",
   "version": "3.10.13"
  }
 },
 "nbformat": 4,
 "nbformat_minor": 5
}
