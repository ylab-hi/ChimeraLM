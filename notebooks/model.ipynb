{
 "cells": [
  {
   "cell_type": "code",
   "execution_count": 1,
   "id": "53efce39-813a-494d-b2a1-c19edae5e0d4",
   "metadata": {},
   "outputs": [],
   "source": [
    "from collections import Counter, defaultdict\n",
    "from pathlib import Path\n",
    "\n",
    "import matplotlib.pyplot as plt\n",
    "import numpy as np\n",
    "import pandas as pd\n",
    "import seaborn as sns\n",
    "\n",
    "import torch\n",
    "\n",
    "from torch import nn"
   ]
  },
  {
   "cell_type": "code",
   "execution_count": 2,
   "id": "07e207e8",
   "metadata": {},
   "outputs": [],
   "source": [
    "import deepbiop"
   ]
  },
  {
   "cell_type": "code",
   "execution_count": 2,
   "id": "17dea6b7-8a23-43dc-9534-4be24a176ddd",
   "metadata": {},
   "outputs": [],
   "source": [
    "# project_path = Path(\"/projects/b1171/ylk4626/project/Chimera\")\n",
    "project_path = Path(\"../\")"
   ]
  },
  {
   "cell_type": "markdown",
   "id": "b3a72af3-edf4-40aa-b320-db279a91bc4d",
   "metadata": {},
   "source": [
    "# Load Data from fq"
   ]
  },
  {
   "cell_type": "code",
   "execution_count": 3,
   "id": "0718aaa8-3648-4d58-a9c4-5f70d941b1bb",
   "metadata": {},
   "outputs": [],
   "source": [
    "from needletail import parse_fastx_file\n",
    "\n",
    "def read_records(fastq):\n",
    "    if isinstance(fastq, Path):\n",
    "        fastq = fastq.as_posix()\n",
    "    return [record for record in parse_fastx_file(fastq)]"
   ]
  },
  {
   "cell_type": "code",
   "execution_count": 4,
   "id": "3f44bd8b-9d2a-4f53-9f17-e8e9b495ea69",
   "metadata": {},
   "outputs": [],
   "source": [
    "dataset_folder = project_path/\"data/train_data/80000\""
   ]
  },
  {
   "cell_type": "code",
   "execution_count": 5,
   "id": "d0b944cd-af2e-4dbc-8296-656b03eb8cf4",
   "metadata": {},
   "outputs": [],
   "source": [
    "train_data_path = dataset_folder /  \"train.fq.target.fq.gz\"\n",
    "val_data_path = dataset_folder   /   \"val.fq.target.fq.gz\"\n",
    "test_data_path = dataset_folder  /  \"test.fq.target.fq.gz\""
   ]
  },
  {
   "cell_type": "code",
   "execution_count": 6,
   "id": "9489b78e-c116-4623-8413-d2ef9045cc41",
   "metadata": {},
   "outputs": [],
   "source": [
    "train_data = read_records(test_data_path)"
   ]
  },
  {
   "cell_type": "code",
   "execution_count": 7,
   "id": "7515e39a-e733-4a28-ba38-e6f5e4ea9e9a",
   "metadata": {
    "scrolled": true
   },
   "outputs": [
    {
     "data": {
      "text/plain": [
       "'GGTAGGCGGGTTTCAGGGGCTCTTTGGTGAAGAGTTTTATGGCGTCAGCGAAGGGTTGTAGTAGCCCGTAGGGGCCTACAACGTTGGGGCCTTTGCGTAGTTGCTGTATCGCCTAGAATTTTTCGTTCGGTAAGCATTAGGAATGCCATTGCGATTAGAATGGGTACAATGAGGAGTAGGAGGTTGGCCATGGGTATGTTGTTAAGAAGAGGAATTGAACCTCTGACTGTAAAGTTTTAAGTTTTATGCGATTACCGGGCTCTGCCATCTTAACAAACCCCTGTTCTTGGGTGGGTGTGGGTATAATGCTAAGTTGAGATGATATCATTTACGGGGGAAGGCGCTTTGTGAAGTAGGCCTTATTTCTCTTGTCCTTTCGTACAGGGAGGAATTTGAAGTAGATAGAAACCGACCTGGATTACTCCGGTCTGAACTCAGATCACGTAGGACTTTAATGGTTGAACAAACGAACCTTTAATAGCGGCTGCACCATTGGGATGTCCTGATCCAACATCGAGGTCGTAAACCCTATTGTTGATATGGACTCTAGATAGGATTGCGCTGTTATCCCTAGGGTAACTTGTTCCGTTGGTCAAGTTATTGGATCAATTGAGTATAGTAGTTCGCTTTGACTGGTGAAGTCTTAGCATGTACTGCTCGGAGGTTGGGTTCTGCTCCGAGGTCGCCCCAACCGAAATTTTTAGATGCCGGTTTGGTCGTTTAGGACCTGTGGGTTTGTTAGGTACTGTTTGCATTAATAAATTAAAGCTCCATAGGGTCTTCTCGTCTTGCTGTGTCATGCCCGCCTCTTCACGGGCAGGTCAATTTCACTGGTTAAAAGTAAGAGACAGCTGAACCCTCGTGGAGCCATTCATACAGGTCCCTATTTAAGGAACAAGTGATTATGCTACCTTTGCACGGTTAGGGTACCAGGACCATTAAACATGTGTCACTGGGCAGGCGGTGCCTGATACTGGTGATGCTAGAGGTGATGTTTTTGGTAAACAGGCGGGGTGAGGTTTGCCAAGTACTCTTTTAACCTTTCCTTATGAGCATGCCTGTGTTGGGTTGACAGTGAGGGTAATAATGACTTGTTGGTTGATTGTAGATATTGGGGCTGTTAATTGTCAGTTCAGTGTTTAATCTGACCGCTTATGCGAAGAAGTGTTTTCATGTTACTTATACTAACATTAGTTCTTCTATAGGGTGATAGATTGGTCCAATATCTACAATCAACCAACAAGTCATTATTACCCTCACTGTCAACCCAACACAGGCATGCTCATAAGGAAAGGTTAAAAAAAAGTAAAAGGAACTCGGCAAATCTTACCCGCCTGTTTACCAAAAACATCACCTCTAGCATCACCAGTATTAGAGGCACCGCCTGCCCAGTGACACATGTTTAACGGCCGCGGTACCCTAACCGTGCAAAGGTAGCATAATCACTTGTTCCTTAAATAGGGACCTGTATGAATGGCTCCACGAGGGTTCAGCTGTCTCTACTTTTAACCAGTGAAATTGACCTGCCCGTGAAGAGGCGGGCATGACACAGCAAGACGAGAAGACCCTATGGAGCTTTAATTTATTAATGCAAACAGTACCTAACAAACCCACAGGTCCTAAACTACCAAACCTGCATTAAAAATTTCGGTTGGGGCGACCTCGGAGCAGAACCCAACCTCCGAGCAGTCATTTACTAAGACTTCACCAGTCAAAGCAAACTATTATACTCAATTGATCCAATAACTTGACCAACGGAACAAGTTACCCTAGGGATAACAGCGCAATCCTATTCTAGAGTCCATATCAACAATAGGGTTTACGACCTCAATGTTGGATCAGGACATCCCGATGGTGCAGCCGCTATTAAAGGTTCGTTTGTTCAACGATTAAAGTCCTACGTGATCTAGTAGACCGGAGTCATCCAGGTCGGTTTCTATCTTATTCAAATTCCTCCCTGTACGAAAGGACAAGAGAAATAAGGCCTACTTCACAAAGCGCCTTCCCGTAAATGATATCATCTCGATTTCAGCATATACCACACCCACCCAAGAACAGGGTTTGTTAAGATGGCAGAGCCCGGTAATCGCATAAACTTTAAAACTTTACAGTCAGAGGTTCAATTCCTCTTCTTAACAACATACCCATGGCCAACCTCCTACTCCTAGTATCCATTCTAATCGCAATGGCATTCCTAATTCTTACCGAACGAAAAATTCTAGGCTATATACAACTACGCAAAGGCCCCAACGTTCTAGCCCCCTACGGGCTACTACAACCCTTCGCTGACGCCATCAACTTCTTCACCAAACCCCCTAAAACCACCACCACGATGAT'"
      ]
     },
     "execution_count": 7,
     "metadata": {},
     "output_type": "execute_result"
    }
   ],
   "source": [
    "train_data[0].seq"
   ]
  },
  {
   "cell_type": "code",
   "execution_count": 27,
   "id": "46f342ef-b058-4012-8499-057ea653163e",
   "metadata": {},
   "outputs": [],
   "source": [
    "def encode_qual(qual, offset=33):\n",
    "    return ( ord(i) -33 for i in qual)"
   ]
  },
  {
   "cell_type": "code",
   "execution_count": 34,
   "id": "7aae09da-4bdd-4efe-8755-5567bd590473",
   "metadata": {},
   "outputs": [],
   "source": [
    "def parse_target(name):\n",
    "    return name.split(\"|\")"
   ]
  },
  {
   "cell_type": "code",
   "execution_count": 35,
   "id": "007c994b-a1b8-43db-ad44-cfb5aa5f9fb2",
   "metadata": {},
   "outputs": [
    {
     "data": {
      "text/plain": [
       "['349022f1-b68c-447e-bf8d-79d9e4c939ee', '0']"
      ]
     },
     "execution_count": 35,
     "metadata": {},
     "output_type": "execute_result"
    }
   ],
   "source": [
    "parse_target(train_data[0].id)"
   ]
  },
  {
   "cell_type": "code",
   "execution_count": null,
   "id": "f5dfdea4-a9a9-40a4-859e-81ee94c5b6e7",
   "metadata": {},
   "outputs": [],
   "source": []
  }
 ],
 "metadata": {
  "kernelspec": {
   "display_name": "chimera",
   "language": "python",
   "name": "python3"
  },
  "language_info": {
   "codemirror_mode": {
    "name": "ipython",
    "version": 3
   },
   "file_extension": ".py",
   "mimetype": "text/x-python",
   "name": "python",
   "nbconvert_exporter": "python",
   "pygments_lexer": "ipython3",
   "version": "3.10.16"
  }
 },
 "nbformat": 4,
 "nbformat_minor": 5
}
